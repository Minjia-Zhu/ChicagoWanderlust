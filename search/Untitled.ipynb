{
 "cells": [
  {
   "cell_type": "code",
   "execution_count": 1,
   "metadata": {
    "collapsed": true
   },
   "outputs": [],
   "source": [
    "run scrapers.py"
   ]
  },
  {
   "cell_type": "code",
   "execution_count": 2,
   "metadata": {
    "collapsed": true
   },
   "outputs": [],
   "source": [
    "CHECKIN=datetime(2017,4,9)\n",
    "CHECKOUT=datetime(2017,4,11)"
   ]
  },
  {
   "cell_type": "code",
   "execution_count": 3,
   "metadata": {
    "collapsed": true
   },
   "outputs": [],
   "source": [
    "ab=airbnb(CHECKIN,CHECKOUT,100,300)"
   ]
  },
  {
   "cell_type": "code",
   "execution_count": 4,
   "metadata": {
    "collapsed": false
   },
   "outputs": [
    {
     "data": {
      "text/html": [
       "<div>\n",
       "<table border=\"1\" class=\"dataframe\">\n",
       "  <thead>\n",
       "    <tr style=\"text-align: right;\">\n",
       "      <th></th>\n",
       "      <th>coord</th>\n",
       "      <th>name</th>\n",
       "      <th>price</th>\n",
       "      <th>url</th>\n",
       "    </tr>\n",
       "  </thead>\n",
       "  <tbody>\n",
       "    <tr>\n",
       "      <th>0</th>\n",
       "      <td>(41.90771379713725, -87.63596095234118)</td>\n",
       "      <td>Gold Coast Resort Loft</td>\n",
       "      <td>147</td>\n",
       "      <td>https://www.airbnb.com/rooms/17514546</td>\n",
       "    </tr>\n",
       "    <tr>\n",
       "      <th>1</th>\n",
       "      <td>(41.880862652018195, -87.64272261899445)</td>\n",
       "      <td>Sightseeing Studio with Super-equipped Facilities</td>\n",
       "      <td>127</td>\n",
       "      <td>https://www.airbnb.com/rooms/13082729</td>\n",
       "    </tr>\n",
       "    <tr>\n",
       "      <th>2</th>\n",
       "      <td>(41.92776057170136, -87.66047611900129)</td>\n",
       "      <td>Charming 1 Bedroom Lincoln Park/DePaul Apartment</td>\n",
       "      <td>155</td>\n",
       "      <td>https://www.airbnb.com/rooms/13236524</td>\n",
       "    </tr>\n",
       "    <tr>\n",
       "      <th>3</th>\n",
       "      <td>(41.87264453464864, -87.6277481016162)</td>\n",
       "      <td>Downtown Living</td>\n",
       "      <td>133</td>\n",
       "      <td>https://www.airbnb.com/rooms/17455520</td>\n",
       "    </tr>\n",
       "    <tr>\n",
       "      <th>4</th>\n",
       "      <td>(41.86437201028524, -87.62599213401428)</td>\n",
       "      <td>Hip 2BR Loft in South Loop Downtown (615)</td>\n",
       "      <td>184</td>\n",
       "      <td>https://www.airbnb.com/rooms/15042622</td>\n",
       "    </tr>\n",
       "    <tr>\n",
       "      <th>5</th>\n",
       "      <td>(41.945394555772836, -87.64853583425847)</td>\n",
       "      <td>Premier Boystown Wrigleyville Lakeview Flat</td>\n",
       "      <td>222</td>\n",
       "      <td>https://www.airbnb.com/rooms/13189052</td>\n",
       "    </tr>\n",
       "    <tr>\n",
       "      <th>6</th>\n",
       "      <td>(41.89193805730387, -87.61778703227442)</td>\n",
       "      <td>Amazing city view from top floor</td>\n",
       "      <td>182</td>\n",
       "      <td>https://www.airbnb.com/rooms/17582836</td>\n",
       "    </tr>\n",
       "    <tr>\n",
       "      <th>7</th>\n",
       "      <td>(41.89438392593559, -87.66828643753438)</td>\n",
       "      <td>Beautiful 3 BR in Best Neighborhood in Chicago</td>\n",
       "      <td>224</td>\n",
       "      <td>https://www.airbnb.com/rooms/16824616</td>\n",
       "    </tr>\n",
       "    <tr>\n",
       "      <th>8</th>\n",
       "      <td>(41.89004798044212, -87.61929102498968)</td>\n",
       "      <td>Cozy Apartment</td>\n",
       "      <td>161</td>\n",
       "      <td>https://www.airbnb.com/rooms/15380469</td>\n",
       "    </tr>\n",
       "    <tr>\n",
       "      <th>9</th>\n",
       "      <td>(41.89718662579434, -87.63144332883867)</td>\n",
       "      <td>Spectacular River North 1 BR</td>\n",
       "      <td>161</td>\n",
       "      <td>https://www.airbnb.com/rooms/13883537</td>\n",
       "    </tr>\n",
       "    <tr>\n",
       "      <th>10</th>\n",
       "      <td>(41.88018809215071, -87.64246600798644)</td>\n",
       "      <td>Great location apartment with amazing sightsee...</td>\n",
       "      <td>174</td>\n",
       "      <td>https://www.airbnb.com/rooms/14980579</td>\n",
       "    </tr>\n",
       "    <tr>\n",
       "      <th>11</th>\n",
       "      <td>(41.91587756274413, -87.70486667252662)</td>\n",
       "      <td>Modern 2 bedroom Apartment in Logan Square Chi...</td>\n",
       "      <td>120</td>\n",
       "      <td>https://www.airbnb.com/rooms/16174963</td>\n",
       "    </tr>\n",
       "    <tr>\n",
       "      <th>12</th>\n",
       "      <td>(41.8797685324246, -87.68274847612568)</td>\n",
       "      <td>3BR Penthouse 8min to Downtown &amp; Bulls.</td>\n",
       "      <td>239</td>\n",
       "      <td>https://www.airbnb.com/rooms/10943002</td>\n",
       "    </tr>\n",
       "    <tr>\n",
       "      <th>13</th>\n",
       "      <td>(41.884301469111755, -87.62672759703382)</td>\n",
       "      <td>Luxury Downtown Getaway w/ Instagram Worthy Views</td>\n",
       "      <td>187</td>\n",
       "      <td>https://www.airbnb.com/rooms/16258036</td>\n",
       "    </tr>\n",
       "    <tr>\n",
       "      <th>14</th>\n",
       "      <td>(41.904617096226374, -87.62494178495113)</td>\n",
       "      <td>DOWNTOWN STUDIO &amp; PARKING, MAGNIFICENT MILE &amp; ...</td>\n",
       "      <td>115</td>\n",
       "      <td>https://www.airbnb.com/rooms/12493755</td>\n",
       "    </tr>\n",
       "  </tbody>\n",
       "</table>\n",
       "</div>"
      ],
      "text/plain": [
       "                                       coord  \\\n",
       "0    (41.90771379713725, -87.63596095234118)   \n",
       "1   (41.880862652018195, -87.64272261899445)   \n",
       "2    (41.92776057170136, -87.66047611900129)   \n",
       "3     (41.87264453464864, -87.6277481016162)   \n",
       "4    (41.86437201028524, -87.62599213401428)   \n",
       "5   (41.945394555772836, -87.64853583425847)   \n",
       "6    (41.89193805730387, -87.61778703227442)   \n",
       "7    (41.89438392593559, -87.66828643753438)   \n",
       "8    (41.89004798044212, -87.61929102498968)   \n",
       "9    (41.89718662579434, -87.63144332883867)   \n",
       "10   (41.88018809215071, -87.64246600798644)   \n",
       "11   (41.91587756274413, -87.70486667252662)   \n",
       "12    (41.8797685324246, -87.68274847612568)   \n",
       "13  (41.884301469111755, -87.62672759703382)   \n",
       "14  (41.904617096226374, -87.62494178495113)   \n",
       "\n",
       "                                                 name  price  \\\n",
       "0                              Gold Coast Resort Loft    147   \n",
       "1   Sightseeing Studio with Super-equipped Facilities    127   \n",
       "2    Charming 1 Bedroom Lincoln Park/DePaul Apartment    155   \n",
       "3                                     Downtown Living    133   \n",
       "4           Hip 2BR Loft in South Loop Downtown (615)    184   \n",
       "5         Premier Boystown Wrigleyville Lakeview Flat    222   \n",
       "6                    Amazing city view from top floor    182   \n",
       "7      Beautiful 3 BR in Best Neighborhood in Chicago    224   \n",
       "8                                      Cozy Apartment    161   \n",
       "9                        Spectacular River North 1 BR    161   \n",
       "10  Great location apartment with amazing sightsee...    174   \n",
       "11  Modern 2 bedroom Apartment in Logan Square Chi...    120   \n",
       "12            3BR Penthouse 8min to Downtown & Bulls.    239   \n",
       "13  Luxury Downtown Getaway w/ Instagram Worthy Views    187   \n",
       "14  DOWNTOWN STUDIO & PARKING, MAGNIFICENT MILE & ...    115   \n",
       "\n",
       "                                      url  \n",
       "0   https://www.airbnb.com/rooms/17514546  \n",
       "1   https://www.airbnb.com/rooms/13082729  \n",
       "2   https://www.airbnb.com/rooms/13236524  \n",
       "3   https://www.airbnb.com/rooms/17455520  \n",
       "4   https://www.airbnb.com/rooms/15042622  \n",
       "5   https://www.airbnb.com/rooms/13189052  \n",
       "6   https://www.airbnb.com/rooms/17582836  \n",
       "7   https://www.airbnb.com/rooms/16824616  \n",
       "8   https://www.airbnb.com/rooms/15380469  \n",
       "9   https://www.airbnb.com/rooms/13883537  \n",
       "10  https://www.airbnb.com/rooms/14980579  \n",
       "11  https://www.airbnb.com/rooms/16174963  \n",
       "12  https://www.airbnb.com/rooms/10943002  \n",
       "13  https://www.airbnb.com/rooms/16258036  \n",
       "14  https://www.airbnb.com/rooms/12493755  "
      ]
     },
     "execution_count": 4,
     "metadata": {},
     "output_type": "execute_result"
    }
   ],
   "source": [
    "ab"
   ]
  },
  {
   "cell_type": "code",
   "execution_count": 5,
   "metadata": {
    "collapsed": false
   },
   "outputs": [
    {
     "name": "stdout",
     "output_type": "stream",
     "text": [
      "Chicago South Loop Hotel\n",
      "The Peninsula Chicago\n",
      "Bridgestreet at State and Grand\n",
      "Dewitt Hotel and Suites\n",
      "Staypineapple at The Alise Chicago\n",
      "The Kimpton Gray Hotel\n",
      "Wyndham Grand Chicago Riverfront\n",
      "Comfort Suites Michigan Avenue\n",
      "Radisson Blu Aqua Hotel Chicago\n",
      "LondonHouse Chicago, Curio Collection by Hilton\n",
      "River Hotel\n",
      "Modern Loop Apartments\n",
      "The Pittsfield Hotel: Apartment + Suites\n",
      "Embassy Suites Chicago Downtown Magnificent Mile\n",
      "Best Western Grant Park Hotel\n",
      "Conrad Chicago\n",
      "Chicago's Essex Inn\n",
      "http://www.booking.com/searchresults.en-gb.html?label=gen173nr-1FCAQoggJCDWNpdHlfMjAwMzMxNzNIM2IFbm9yZWZyBXVzX2lsiAEBmAEuuAEKyAEF2AEB6AEB-AELqAID;sid=58e11776975eb54eb10d7fda38a84460;checkin_monthday=09;checkin_year_month=2017-04;checkout_monthday=11;checkout_year_month=2017-04;class_interval=1;dest_id=20033173;dest_type=city;label_click=undef;mih=0;raw_dest_type=city;room1=A%2CA;sb_price_type=total;sb_travel_purpose=leisure;si=ai%2Cco%2Cci%2Cre%2Cdi;src=index;ssb=empty;rows=15;offset=15\n",
      "Acme Hotel Company Chicago\n",
      "Holiday Inn Chicago Mart Plaza River North\n",
      "Bridgestreet at State and Grand\n",
      "Central Loop Hotel\n",
      "Hyatt Regency Chicago\n",
      "The Ritz-Carlton, Chicago\n",
      "The Palmer House Hilton\n",
      "Best Western River North Hotel\n",
      "Chicago Marriott Downtown Magnificent Mile\n",
      "The Silversmith Hotel\n",
      "Congress Plaza Hotel\n",
      "Modern Loop Apartments\n",
      "Kimpton Hotel Allegro\n",
      "The Drake\n",
      "Hyatt Centric The Loop Chicago\n",
      "Kimpton Hotel Monaco Chicago\n",
      "Palomar Chicago, a Kimpton Hotel\n",
      "Embassy Suites Chicago - Downtown\n",
      "Raffaello Hotel\n",
      "Club Quarters Hotel, Wacker at Michigan\n",
      "Oakwood 200 Squared\n",
      "Virgin Hotels Chicago\n",
      "The Whitehall Hotel\n",
      "Sheraton Grand Chicago\n",
      "InterContinental Hotel Chicago\n",
      "La Quinta Inn & Suites Chicago Lake Shore\n",
      "Club Quarters Hotel, Central Loop\n",
      "Godfrey Hotel Chicago\n",
      "http://www.booking.com/searchresults.en-gb.html?label=gen173nr-1FCAQoggJCDWNpdHlfMjAwMzMxNzNIM2IFbm9yZWZyBXVzX2lsiAEBmAEuuAEKyAEF2AEB6AEB-AELqAID;sid=58e11776975eb54eb10d7fda38a84460;checkin_monthday=09;checkin_year_month=2017-04;checkout_monthday=11;checkout_year_month=2017-04;class_interval=1;dest_id=20033173;dest_type=city;dtdisc=0;inac=0;label_click=undef;mih=0;postcard=0;raw_dest_type=city;room1=A%2CA;sb_price_type=total;sb_travel_purpose=leisure;si=ai%2Cco%2Cci%2Cre%2Cdi;src=index;ss_all=0;ssb=empty;sshis=0;rows=25;offset=40\n",
      "Hyatt Place Chicago River North\n",
      "W Chicago - Lakeshore\n",
      "Modern Loop Apartments\n",
      "Hilton Garden Inn Chicago Downtown/Magnificent Mile\n",
      "Residence Inn by Marriott Chicago Downtown/Magnificent Mile\n",
      "La Quinta Inn & Suites Chicago Downtown\n",
      "BEST WESTERN PLUS Hawthorne Terrace Hotel\n",
      "Residence Inn by Marriott Chicago Downtown/Loop\n",
      "Courtyard Chicago Downtown/Magnificent Mile\n",
      "Hotel Felix\n",
      "The Westin Michigan Avenue Chicago\n",
      "Oakwood 200 Squared\n",
      "Hilton Garden Inn Chicago Downtown/North Loop\n",
      "Inn of Chicago\n",
      "Hyatt Regency McCormick Place\n",
      "Hilton Chicago/Magnificent Mile Suites\n",
      "Omni Chicago Hotel\n",
      "The Westin Chicago River North\n",
      "Sofitel Chicago Magnificent Mile\n",
      "Chicago Athletic Association\n",
      "Corporate Suites in the Heart of Magnificent Mile\n",
      "Freehand Chicago\n",
      "Hilton Chicago\n",
      "Trump International Hotel & Tower Chicago\n",
      "Fairfield Inn and Suites Chicago Downtown-River North\n",
      "Hampton Inn Chicago Downtown/N Loop/Michigan Ave\n",
      "Hotel Chicago Downtown, Autograph Collection\n",
      "AC Hotel Chicago Downtown\n",
      "http://www.booking.com/searchresults.en-gb.html?label=gen173nr-1FCAQoggJCDWNpdHlfMjAwMzMxNzNIM2IFbm9yZWZyBXVzX2lsiAEBmAEuuAEKyAEF2AEB6AEB-AELqAID;sid=58e11776975eb54eb10d7fda38a84460;checkin_monthday=09;checkin_year_month=2017-04;checkout_monthday=11;checkout_year_month=2017-04;class_interval=1;dest_id=20033173;dest_type=city;label_click=undef;mih=0;raw_dest_type=city;room1=A%2CA;sb_price_type=total;sb_travel_purpose=leisure;si=ai%2Cco%2Cci%2Cre%2Cdi;src=index;ssb=empty;rows=25;offset=65\n"
     ]
    }
   ],
   "source": [
    "bs=booking(CHECKIN,CHECKOUT,100,300)"
   ]
  },
  {
   "cell_type": "code",
   "execution_count": 6,
   "metadata": {
    "collapsed": false
   },
   "outputs": [
    {
     "data": {
      "text/html": [
       "<div>\n",
       "<table border=\"1\" class=\"dataframe\">\n",
       "  <thead>\n",
       "    <tr style=\"text-align: right;\">\n",
       "      <th></th>\n",
       "      <th>coord</th>\n",
       "      <th>name</th>\n",
       "      <th>price</th>\n",
       "      <th>url</th>\n",
       "    </tr>\n",
       "  </thead>\n",
       "  <tbody>\n",
       "    <tr>\n",
       "      <th>0</th>\n",
       "      <td>(41.845503, -87.627114)</td>\n",
       "      <td>Chicago South Loop Hotel</td>\n",
       "      <td>120.5</td>\n",
       "      <td>http://www.booking.com/hotel/us/chicago-south-...</td>\n",
       "    </tr>\n",
       "    <tr>\n",
       "      <th>3</th>\n",
       "      <td>(41.8993793051959, -87.6205131411552)</td>\n",
       "      <td>Dewitt Hotel and Suites</td>\n",
       "      <td>125.0</td>\n",
       "      <td>http://www.booking.com/hotel/us/dewitt-place.e...</td>\n",
       "    </tr>\n",
       "    <tr>\n",
       "      <th>4</th>\n",
       "      <td>(41.8831044243204, -87.6283586025237)</td>\n",
       "      <td>Staypineapple at The Alise Chicago</td>\n",
       "      <td>134.0</td>\n",
       "      <td>http://www.booking.com/hotel/us/staypineapple-...</td>\n",
       "    </tr>\n",
       "    <tr>\n",
       "      <th>5</th>\n",
       "      <td>(41.8807471920679, -87.6317412711639)</td>\n",
       "      <td>The Kimpton Gray Hotel</td>\n",
       "      <td>149.5</td>\n",
       "      <td>http://www.booking.com/hotel/us/kimpton-the-gr...</td>\n",
       "    </tr>\n",
       "    <tr>\n",
       "      <th>6</th>\n",
       "      <td>(41.8874665630222, -87.6258239150047)</td>\n",
       "      <td>Wyndham Grand Chicago Riverfront</td>\n",
       "      <td>143.5</td>\n",
       "      <td>http://www.booking.com/hotel/us/wyndham-grand-...</td>\n",
       "    </tr>\n",
       "    <tr>\n",
       "      <th>7</th>\n",
       "      <td>(41.8874114515566, -87.6247114241232)</td>\n",
       "      <td>Comfort Suites Michigan Avenue</td>\n",
       "      <td>152.0</td>\n",
       "      <td>http://www.booking.com/hotel/us/comfort-suites...</td>\n",
       "    </tr>\n",
       "    <tr>\n",
       "      <th>8</th>\n",
       "      <td>(41.886446, -87.620062)</td>\n",
       "      <td>Radisson Blu Aqua Hotel Chicago</td>\n",
       "      <td>188.0</td>\n",
       "      <td>http://www.booking.com/hotel/us/radisson-blu-a...</td>\n",
       "    </tr>\n",
       "    <tr>\n",
       "      <th>9</th>\n",
       "      <td>(41.88803583, -87.62503662)</td>\n",
       "      <td>LondonHouse Chicago, Curio Collection by Hilton</td>\n",
       "      <td>229.0</td>\n",
       "      <td>http://www.booking.com/hotel/us/londonhouse-ch...</td>\n",
       "    </tr>\n",
       "    <tr>\n",
       "      <th>10</th>\n",
       "      <td>(41.8876742289415, -87.6255697757005)</td>\n",
       "      <td>River Hotel</td>\n",
       "      <td>141.5</td>\n",
       "      <td>http://www.booking.com/hotel/us/the-chicago-ri...</td>\n",
       "    </tr>\n",
       "    <tr>\n",
       "      <th>12</th>\n",
       "      <td>(41.8833016572108, -87.6257010697009)</td>\n",
       "      <td>The Pittsfield Hotel: Apartment + Suites</td>\n",
       "      <td>114.5</td>\n",
       "      <td>http://www.booking.com/hotel/us/north-michigan...</td>\n",
       "    </tr>\n",
       "    <tr>\n",
       "      <th>13</th>\n",
       "      <td>(41.891323248285, -87.6199934631586)</td>\n",
       "      <td>Embassy Suites Chicago Downtown Magnificent Mile</td>\n",
       "      <td>149.0</td>\n",
       "      <td>http://www.booking.com/hotel/us/embassy-suites...</td>\n",
       "    </tr>\n",
       "    <tr>\n",
       "      <th>14</th>\n",
       "      <td>(41.8691813292745, -87.6246491074562)</td>\n",
       "      <td>Best Western Grant Park Hotel</td>\n",
       "      <td>108.0</td>\n",
       "      <td>http://www.booking.com/hotel/us/best-western-g...</td>\n",
       "    </tr>\n",
       "    <tr>\n",
       "      <th>15</th>\n",
       "      <td>(41.893983, -87.625268)</td>\n",
       "      <td>Conrad Chicago</td>\n",
       "      <td>235.0</td>\n",
       "      <td>http://www.booking.com/hotel/us/conrad-chicago...</td>\n",
       "    </tr>\n",
       "    <tr>\n",
       "      <th>17</th>\n",
       "      <td>(41.8923754849094, -87.6275458931923)</td>\n",
       "      <td>Acme Hotel Company Chicago</td>\n",
       "      <td>109.5</td>\n",
       "      <td>http://www.booking.com/hotel/us/acme-chicago.e...</td>\n",
       "    </tr>\n",
       "    <tr>\n",
       "      <th>18</th>\n",
       "      <td>(41.8879977072017, -87.6378308236599)</td>\n",
       "      <td>Holiday Inn Chicago Mart Plaza River North</td>\n",
       "      <td>144.0</td>\n",
       "      <td>http://www.booking.com/hotel/us/holiday-inn-ch...</td>\n",
       "    </tr>\n",
       "  </tbody>\n",
       "</table>\n",
       "</div>"
      ],
      "text/plain": [
       "                                    coord  \\\n",
       "0                 (41.845503, -87.627114)   \n",
       "3   (41.8993793051959, -87.6205131411552)   \n",
       "4   (41.8831044243204, -87.6283586025237)   \n",
       "5   (41.8807471920679, -87.6317412711639)   \n",
       "6   (41.8874665630222, -87.6258239150047)   \n",
       "7   (41.8874114515566, -87.6247114241232)   \n",
       "8                 (41.886446, -87.620062)   \n",
       "9             (41.88803583, -87.62503662)   \n",
       "10  (41.8876742289415, -87.6255697757005)   \n",
       "12  (41.8833016572108, -87.6257010697009)   \n",
       "13   (41.891323248285, -87.6199934631586)   \n",
       "14  (41.8691813292745, -87.6246491074562)   \n",
       "15                (41.893983, -87.625268)   \n",
       "17  (41.8923754849094, -87.6275458931923)   \n",
       "18  (41.8879977072017, -87.6378308236599)   \n",
       "\n",
       "                                                name  price  \\\n",
       "0                           Chicago South Loop Hotel  120.5   \n",
       "3                            Dewitt Hotel and Suites  125.0   \n",
       "4                 Staypineapple at The Alise Chicago  134.0   \n",
       "5                             The Kimpton Gray Hotel  149.5   \n",
       "6                   Wyndham Grand Chicago Riverfront  143.5   \n",
       "7                     Comfort Suites Michigan Avenue  152.0   \n",
       "8                    Radisson Blu Aqua Hotel Chicago  188.0   \n",
       "9    LondonHouse Chicago, Curio Collection by Hilton  229.0   \n",
       "10                                       River Hotel  141.5   \n",
       "12          The Pittsfield Hotel: Apartment + Suites  114.5   \n",
       "13  Embassy Suites Chicago Downtown Magnificent Mile  149.0   \n",
       "14                     Best Western Grant Park Hotel  108.0   \n",
       "15                                    Conrad Chicago  235.0   \n",
       "17                        Acme Hotel Company Chicago  109.5   \n",
       "18        Holiday Inn Chicago Mart Plaza River North  144.0   \n",
       "\n",
       "                                                  url  \n",
       "0   http://www.booking.com/hotel/us/chicago-south-...  \n",
       "3   http://www.booking.com/hotel/us/dewitt-place.e...  \n",
       "4   http://www.booking.com/hotel/us/staypineapple-...  \n",
       "5   http://www.booking.com/hotel/us/kimpton-the-gr...  \n",
       "6   http://www.booking.com/hotel/us/wyndham-grand-...  \n",
       "7   http://www.booking.com/hotel/us/comfort-suites...  \n",
       "8   http://www.booking.com/hotel/us/radisson-blu-a...  \n",
       "9   http://www.booking.com/hotel/us/londonhouse-ch...  \n",
       "10  http://www.booking.com/hotel/us/the-chicago-ri...  \n",
       "12  http://www.booking.com/hotel/us/north-michigan...  \n",
       "13  http://www.booking.com/hotel/us/embassy-suites...  \n",
       "14  http://www.booking.com/hotel/us/best-western-g...  \n",
       "15  http://www.booking.com/hotel/us/conrad-chicago...  \n",
       "17  http://www.booking.com/hotel/us/acme-chicago.e...  \n",
       "18  http://www.booking.com/hotel/us/holiday-inn-ch...  "
      ]
     },
     "execution_count": 6,
     "metadata": {},
     "output_type": "execute_result"
    }
   ],
   "source": [
    "bs"
   ]
  },
  {
   "cell_type": "code",
   "execution_count": 7,
   "metadata": {
    "collapsed": false
   },
   "outputs": [
    {
     "name": "stdout",
     "output_type": "stream",
     "text": [
      "/Users/Ran/ChicagoWanderlust\n"
     ]
    }
   ],
   "source": [
    "cd ..\n"
   ]
  },
  {
   "cell_type": "code",
   "execution_count": 11,
   "metadata": {
    "collapsed": false
   },
   "outputs": [],
   "source": [
    "run Selection/scrapers.py"
   ]
  },
  {
   "cell_type": "code",
   "execution_count": 12,
   "metadata": {
    "collapsed": false
   },
   "outputs": [
    {
     "ename": "KeyError",
     "evalue": "'search_results'",
     "output_type": "error",
     "traceback": [
      "\u001b[0;31m---------------------------------------------------------------------------\u001b[0m",
      "\u001b[0;31mKeyError\u001b[0m                                  Traceback (most recent call last)",
      "\u001b[0;32m<ipython-input-12-2a6983c42ff4>\u001b[0m in \u001b[0;36m<module>\u001b[0;34m()\u001b[0m\n\u001b[0;32m----> 1\u001b[0;31m \u001b[0mair\u001b[0m\u001b[0;34m=\u001b[0m\u001b[0mairbnb\u001b[0m\u001b[0;34m(\u001b[0m\u001b[0mCHECKIN\u001b[0m\u001b[0;34m,\u001b[0m\u001b[0mCHECKOUT\u001b[0m\u001b[0;34m,\u001b[0m\u001b[0;36m100\u001b[0m\u001b[0;34m,\u001b[0m\u001b[0;36m300\u001b[0m\u001b[0;34m)\u001b[0m\u001b[0;34m\u001b[0m\u001b[0m\n\u001b[0m",
      "\u001b[0;32m/Users/Ran/ChicagoWanderlust/Selection/scrapers.py\u001b[0m in \u001b[0;36mairbnb\u001b[0;34m(checkin, checkout, min_price, max_price, toprate)\u001b[0m\n\u001b[1;32m     39\u001b[0m         \u001b[0mr\u001b[0m \u001b[0;34m=\u001b[0m \u001b[0mrequests\u001b[0m\u001b[0;34m.\u001b[0m\u001b[0mpost\u001b[0m\u001b[0;34m(\u001b[0m\u001b[0murl\u001b[0m\u001b[0;34m,\u001b[0m \u001b[0mpayload\u001b[0m\u001b[0;34m,\u001b[0m \u001b[0mheaders\u001b[0m \u001b[0;34m=\u001b[0m \u001b[0mhead\u001b[0m\u001b[0;34m)\u001b[0m\u001b[0;34m\u001b[0m\u001b[0m\n\u001b[1;32m     40\u001b[0m         \u001b[0md\u001b[0m \u001b[0;34m=\u001b[0m\u001b[0mr\u001b[0m\u001b[0;34m.\u001b[0m\u001b[0mjson\u001b[0m\u001b[0;34m(\u001b[0m\u001b[0;34m)\u001b[0m\u001b[0;34m\u001b[0m\u001b[0m\n\u001b[0;32m---> 41\u001b[0;31m         \u001b[0msearch_results\u001b[0m \u001b[0;34m=\u001b[0m \u001b[0md\u001b[0m\u001b[0;34m[\u001b[0m\u001b[0;34m'search_results'\u001b[0m\u001b[0;34m]\u001b[0m\u001b[0;34m\u001b[0m\u001b[0m\n\u001b[0m\u001b[1;32m     42\u001b[0m \u001b[0;34m\u001b[0m\u001b[0m\n\u001b[1;32m     43\u001b[0m         \u001b[0mrank\u001b[0m \u001b[0;34m=\u001b[0m \u001b[0;36m1\u001b[0m\u001b[0;34m\u001b[0m\u001b[0m\n",
      "\u001b[0;31mKeyError\u001b[0m: 'search_results'"
     ]
    }
   ],
   "source": [
    "air=airbnb(CHECKIN,CHECKOUT,100,300)"
   ]
  },
  {
   "cell_type": "code",
   "execution_count": 14,
   "metadata": {
    "collapsed": false
   },
   "outputs": [],
   "source": [
    "url = 'https://api.airbnb.com/v2/search_results'\n",
    "\n",
    "\n",
    "payload = {\n",
    "'client_id':'3092nxybyb0otqw18e8nh5nty',\n",
    "'currency':'USD',\n",
    "'_format':'for_search_results_with_minimal_pricing',\n",
    "'guest': 2,\n",
    "'ib': 'false',\n",
    "'location': 'Chicago%20IL%20US',\n",
    "'price_min':100,\n",
    "'price_max':200,\n",
    "'sort': 1,\n",
    "'suppress_facets': 'true'\n",
    "}\n",
    "head = {\"User-Agent\":\"Safari/537.36\"}\n",
    "\n",
    "\n",
    "\n",
    "\n",
    "\n",
    "\n",
    "r = requests.post(url, payload, headers = head)"
   ]
  },
  {
   "cell_type": "code",
   "execution_count": 20,
   "metadata": {
    "collapsed": false
   },
   "outputs": [
    {
     "data": {
      "text/plain": [
       "'https://api.airbnb.com/v2/search_results'"
      ]
     },
     "execution_count": 20,
     "metadata": {},
     "output_type": "execute_result"
    }
   ],
   "source": [
    "r.url"
   ]
  },
  {
   "cell_type": "code",
   "execution_count": 21,
   "metadata": {
    "collapsed": false
   },
   "outputs": [
    {
     "name": "stdout",
     "output_type": "stream",
     "text": [
      "/Users/Ran\n"
     ]
    }
   ],
   "source": [
    "cd .."
   ]
  },
  {
   "cell_type": "code",
   "execution_count": 22,
   "metadata": {
    "collapsed": false
   },
   "outputs": [
    {
     "name": "stdout",
     "output_type": "stream",
     "text": [
      "/Users/Ran/ChicagoWanderlust/search\n"
     ]
    }
   ],
   "source": [
    "cd ChicagoWanderlust/search/"
   ]
  },
  {
   "cell_type": "code",
   "execution_count": 33,
   "metadata": {
    "collapsed": false
   },
   "outputs": [],
   "source": [
    "run algorithem.py"
   ]
  },
  {
   "cell_type": "code",
   "execution_count": 37,
   "metadata": {
    "collapsed": true
   },
   "outputs": [],
   "source": [
    "data = {'checkout': datetime.date(2017, 5, 3), 'attraction_1': 'Art & Culture', 'pricemin': 500, 'pricemax': 300, 'attraction_3': 'Kids/Family', 'checkin': datetime.date(2017, 5, 1), 'trans': 'driving', 'attraction_2': 'History'}"
   ]
  },
  {
   "cell_type": "code",
   "execution_count": 38,
   "metadata": {
    "collapsed": false
   },
   "outputs": [
    {
     "data": {
      "text/plain": [
       "{'context': 'Please input valid price range', 'criteris_met': False}"
      ]
     },
     "execution_count": 38,
     "metadata": {},
     "output_type": "execute_result"
    }
   ],
   "source": [
    "check_user_input(data)"
   ]
  },
  {
   "cell_type": "code",
   "execution_count": 39,
   "metadata": {
    "collapsed": false
   },
   "outputs": [
    {
     "name": "stdout",
     "output_type": "stream",
     "text": [
      "Attraction List.csv     danger_poly.json        safety_filter.py\r\n",
      "Untitled.ipynb          fields.py               scrapers.py\r\n",
      "__init__.py             final_format.py         scrapers.py~\r\n",
      "\u001b[34m__pycache__\u001b[m\u001b[m/            forms.py                tests.py\r\n",
      "admin.py                forms.py~               urls.py\r\n",
      "algorithem-original.py  \u001b[34mmigrations\u001b[m\u001b[m/             views.py\r\n",
      "algorithem.py           models.py               yelp_filter.py\r\n",
      "algorithem.py~          routes.py\r\n",
      "apps.py                 routes.py~\r\n"
     ]
    }
   ],
   "source": [
    "ls"
   ]
  },
  {
   "cell_type": "code",
   "execution_count": 48,
   "metadata": {
    "collapsed": true
   },
   "outputs": [],
   "source": [
    "run algorithem.py"
   ]
  },
  {
   "cell_type": "code",
   "execution_count": 49,
   "metadata": {
    "collapsed": true
   },
   "outputs": [],
   "source": [
    "data = {'checkout': datetime.date(2017, 5, 3), 'attraction_1': 'None', 'pricemin': 100, 'pricemax': 300, 'attraction_3': 'Kids/Family', 'checkin': datetime.date(2017, 5, 1), 'trans': 'driving', 'attraction_2': 'Kids/Family'}"
   ]
  },
  {
   "cell_type": "code",
   "execution_count": 50,
   "metadata": {
    "collapsed": false
   },
   "outputs": [
    {
     "data": {
      "text/plain": [
       "{'checkin': datetime.date(2017, 5, 1),\n",
       " 'checkout': datetime.date(2017, 5, 3),\n",
       " 'criteris_met': True,\n",
       " 'prefs': ['Kids/Family'],\n",
       " 'pricemax': 300,\n",
       " 'pricemin': 100,\n",
       " 'transit_mode': 'driving'}"
      ]
     },
     "execution_count": 50,
     "metadata": {},
     "output_type": "execute_result"
    }
   ],
   "source": [
    "check_user_input(data)"
   ]
  },
  {
   "cell_type": "code",
   "execution_count": 51,
   "metadata": {
    "collapsed": true
   },
   "outputs": [],
   "source": [
    "def f(x):\n",
    "    try:\n",
    "        n = 2/x\n",
    "    except:\n",
    "        return 'eoo'"
   ]
  },
  {
   "cell_type": "code",
   "execution_count": 52,
   "metadata": {
    "collapsed": false
   },
   "outputs": [
    {
     "data": {
      "text/plain": [
       "'eoo'"
      ]
     },
     "execution_count": 52,
     "metadata": {},
     "output_type": "execute_result"
    }
   ],
   "source": [
    "f(0)"
   ]
  },
  {
   "cell_type": "code",
   "execution_count": 53,
   "metadata": {
    "collapsed": true
   },
   "outputs": [],
   "source": [
    "a = f(3)"
   ]
  },
  {
   "cell_type": "code",
   "execution_count": 54,
   "metadata": {
    "collapsed": true
   },
   "outputs": [],
   "source": [
    "a"
   ]
  },
  {
   "cell_type": "code",
   "execution_count": 58,
   "metadata": {
    "collapsed": false
   },
   "outputs": [],
   "source": [
    "def div(x):\n",
    "    try:\n",
    "        2/x\n",
    "    except:\n",
    "        return 'error'\n",
    "    return 2/x"
   ]
  },
  {
   "cell_type": "code",
   "execution_count": 59,
   "metadata": {
    "collapsed": false
   },
   "outputs": [
    {
     "data": {
      "text/plain": [
       "'error'"
      ]
     },
     "execution_count": 59,
     "metadata": {},
     "output_type": "execute_result"
    }
   ],
   "source": [
    "div(0)"
   ]
  },
  {
   "cell_type": "code",
   "execution_count": 68,
   "metadata": {
    "collapsed": true
   },
   "outputs": [],
   "source": [
    "run algorithem.py"
   ]
  },
  {
   "cell_type": "code",
   "execution_count": 69,
   "metadata": {
    "collapsed": false
   },
   "outputs": [
    {
     "data": {
      "text/plain": [
       "{'attraction_1': 'None',\n",
       " 'attraction_2': 'Kids/Family',\n",
       " 'attraction_3': 'Kids/Family',\n",
       " 'checkin': datetime.date(2017, 5, 1),\n",
       " 'checkout': datetime.date(2017, 5, 3),\n",
       " 'pricemax': 300,\n",
       " 'pricemin': 100,\n",
       " 'trans': 'driving'}"
      ]
     },
     "execution_count": 69,
     "metadata": {},
     "output_type": "execute_result"
    }
   ],
   "source": [
    "data"
   ]
  },
  {
   "cell_type": "code",
   "execution_count": null,
   "metadata": {
    "collapsed": false
   },
   "outputs": [
    {
     "name": "stdout",
     "output_type": "stream",
     "text": [
      "                                       coord  \\\n",
      "0   (41.907853573662535, -87.69177013187777)   \n",
      "1    (41.86437201028524, -87.62599213401428)   \n",
      "2   (41.943770082994355, -87.67172822911921)   \n",
      "3   (41.945394555772836, -87.64853583425847)   \n",
      "4    (41.88591434521404, -87.62068896818685)   \n",
      "5    (41.89438392593559, -87.66828643753438)   \n",
      "6      (41.82444190311945, -87.622649560332)   \n",
      "7   (41.898692514983075, -87.67500747590094)   \n",
      "8    (41.91587756274413, -87.70486667252662)   \n",
      "9     (41.8925033938853, -87.62384283066115)   \n",
      "10  (41.903753280607425, -87.62582898287503)   \n",
      "11  (41.884301469111755, -87.62672759703382)   \n",
      "12   (41.92413456182055, -87.69912644338527)   \n",
      "13  (41.889478213591666, -87.62665726652948)   \n",
      "14   (41.94124369797518, -87.65953520253606)   \n",
      "\n",
      "                                                 name  price  \\\n",
      "0                   A Real HIP HOT TUB Vibe in Wicker    196   \n",
      "1           Hip 2BR Loft in South Loop Downtown (615)    218   \n",
      "2    Entire Floor of Cozy Two-Flat Near Wrigley Field    114   \n",
      "3         Premier Boystown Wrigleyville Lakeview Flat    222   \n",
      "4                  Lux Downtown River North Lake View    145   \n",
      "5      Beautiful 3 BR in Best Neighborhood in Chicago    224   \n",
      "6    Completely Renovated Townhome Close to McCormick    252   \n",
      "7                          Entire Loft / Vibrant Area    228   \n",
      "8   Modern 2 bedroom Apartment in Logan Square Chi...    127   \n",
      "9           2B/1.5bth, 5 stars amenities, W/D in unit    272   \n",
      "10                GOLD COAST STUDIO IN 1885 VICTORIAN    146   \n",
      "11  Luxury Downtown Getaway w/ Instagram Worthy Views    187   \n",
      "12    Bohemian Artist's 1BR Steps to Bars & Blue Line    124   \n",
      "13          Cozy High-Rise Studio in Heart of Chicago    191   \n",
      "14  Vintage Wrigleyville Apartment w/ private parking    153   \n",
      "\n",
      "                                      url  \n",
      "0   https://www.airbnb.com/rooms/14537102  \n",
      "1   https://www.airbnb.com/rooms/15042622  \n",
      "2   https://www.airbnb.com/rooms/14450383  \n",
      "3   https://www.airbnb.com/rooms/13189052  \n",
      "4    https://www.airbnb.com/rooms/5091151  \n",
      "5   https://www.airbnb.com/rooms/16824616  \n",
      "6   https://www.airbnb.com/rooms/15055798  \n",
      "7    https://www.airbnb.com/rooms/3433018  \n",
      "8   https://www.airbnb.com/rooms/16174963  \n",
      "9    https://www.airbnb.com/rooms/8241512  \n",
      "10   https://www.airbnb.com/rooms/4737080  \n",
      "11  https://www.airbnb.com/rooms/16258036  \n",
      "12  https://www.airbnb.com/rooms/15599771  \n",
      "13  https://www.airbnb.com/rooms/17472475  \n",
      "14  https://www.airbnb.com/rooms/15142737  \n",
      "Virgin Hotels Chicago\n",
      "Residence Inn by Marriott Chicago Downtown/Loop\n",
      "Bridgestreet at State and Grand\n",
      "Courtyard Chicago Downtown/Magnificent Mile\n",
      "Conrad Chicago\n",
      "Radisson Blu Aqua Hotel Chicago\n",
      "InterContinental Hotel Chicago\n",
      "Chicago South Loop Hotel\n",
      "Holiday Inn Chicago Mart Plaza River North\n",
      "Hyatt Place Chicago River North\n",
      "Congress Plaza Hotel\n",
      "Modern Loop Apartments\n",
      "Raffaello Hotel\n",
      "Wyndham Grand Chicago Riverfront\n",
      "LondonHouse Chicago, Curio Collection by Hilton\n",
      "Omni Chicago Hotel\n",
      "Hyatt Centric The Loop Chicago\n",
      "http://www.booking.com/searchresults.en-gb.html?label=gen173nr-1FCAQoggJCDWNpdHlfMjAwMzMxNzNIM2IFbm9yZWZyBXVzX2lsiAEBmAEuuAEKyAEF2AEB6AEB-AELqAID;sid=4ab52eb0f87a6cc6f5ca82516e3eb003;checkin_monthday=01;checkin_year_month=2017-05;checkout_monthday=03;checkout_year_month=2017-05;class_interval=1;dest_id=20033173;dest_type=city;label_click=undef;mih=0;raw_dest_type=city;room1=A%2CA;sb_price_type=total;sb_travel_purpose=leisure;si=ai%2Cco%2Cci%2Cre%2Cdi;src=index;ssb=empty;rows=15;offset=15\n",
      "Best Western Grant Park Hotel\n",
      "The Kimpton Gray Hotel\n",
      "Bridgestreet at State and Grand\n",
      "The Silversmith Hotel\n",
      "Dewitt Hotel and Suites\n",
      "Club Quarters Hotel, Central Loop\n",
      "The Palmer House Hilton\n",
      "Acme Hotel Company Chicago\n",
      "Kimpton Hotel Allegro\n",
      "Hyatt Regency Chicago\n",
      "Chicago's Essex Inn\n",
      "Modern Loop Apartments\n",
      "Sheraton Grand Chicago\n",
      "Comfort Suites Michigan Avenue\n",
      "The Drake\n",
      "Palomar Chicago, a Kimpton Hotel\n",
      "The Whitehall Hotel\n",
      "Club Quarters Hotel, Wacker at Michigan\n",
      "River Hotel\n",
      "Central Loop Hotel\n",
      "Embassy Suites Chicago Downtown Magnificent Mile\n",
      "Freehand Chicago\n",
      "La Quinta Inn & Suites Chicago Downtown\n",
      "La Quinta Inn & Suites Chicago Lake Shore\n",
      "Best Western River North Hotel\n",
      "The Peninsula Chicago\n",
      "The Langham Chicago\n",
      "Hyatt Regency McCormick Place\n",
      "http://www.booking.com/searchresults.en-gb.html?label=gen173nr-1FCAQoggJCDWNpdHlfMjAwMzMxNzNIM2IFbm9yZWZyBXVzX2lsiAEBmAEuuAEKyAEF2AEB6AEB-AELqAID;sid=4ab52eb0f87a6cc6f5ca82516e3eb003;checkin_monthday=01;checkin_year_month=2017-05;checkout_monthday=03;checkout_year_month=2017-05;class_interval=1;dest_id=20033173;dest_type=city;dtdisc=0;inac=0;label_click=undef;mih=0;postcard=0;raw_dest_type=city;room1=A%2CA;sb_price_type=total;sb_travel_purpose=leisure;si=ai%2Cco%2Cci%2Cre%2Cdi;src=index;ss_all=0;ssb=empty;sshis=0;rows=25;offset=40\n",
      "Godfrey Hotel Chicago\n",
      "The Westin Chicago River North\n",
      "Modern Loop Apartments\n",
      "Kimpton Hotel Monaco Chicago\n",
      "The Westin Michigan Avenue Chicago\n",
      "Sofitel Chicago Magnificent Mile\n",
      "Hilton Chicago\n",
      "The Ritz-Carlton, Chicago\n",
      "Chicago Athletic Association\n",
      "Hilton Chicago/Magnificent Mile Suites\n",
      "Residence Inn by Marriott Chicago Downtown/Magnificent Mile\n",
      "Embassy Suites Chicago Downtown Magnificent Mile\n",
      "Aloft Chicago City Center\n",
      "Dana Hotel And Spa\n",
      "Four Seasons Chicago\n",
      "Hotel Felix\n",
      "Fairfield Inn and Suites Chicago Downtown-River North\n",
      "Hotel Chicago Downtown, Autograph Collection\n",
      "Warwick Allerton Hotel Chicago\n",
      "AC Hotel Chicago Downtown\n",
      "Oakwood 200 Squared\n",
      "Hilton Garden Inn Chicago Downtown/North Loop\n",
      "PUBLIC Chicago\n",
      "W Chicago - Lakeshore\n",
      "Hampton Inn Chicago Downtown/N Loop/Michigan Ave\n",
      "The Pittsfield Hotel: Apartment + Suites\n",
      "Trump International Hotel & Tower Chicago\n",
      "Inn of Chicago\n",
      "http://www.booking.com/searchresults.en-gb.html?label=gen173nr-1FCAQoggJCDWNpdHlfMjAwMzMxNzNIM2IFbm9yZWZyBXVzX2lsiAEBmAEuuAEKyAEF2AEB6AEB-AELqAID;sid=4ab52eb0f87a6cc6f5ca82516e3eb003;checkin_monthday=01;checkin_year_month=2017-05;checkout_monthday=03;checkout_year_month=2017-05;class_interval=1;dest_id=20033173;dest_type=city;label_click=undef;mih=0;raw_dest_type=city;room1=A%2CA;sb_price_type=total;sb_travel_purpose=leisure;si=ai%2Cco%2Cci%2Cre%2Cdi;src=index;ssb=empty;rows=25;offset=65\n",
      "Millennium Park Cloud Gate\n",
      "2\n",
      "Millennium Park Museum of Science and Industry\n",
      "13\n",
      "Cloud Gate Museum of Science and Industry\n",
      "15\n",
      "Cloud Gate Millennium Park\n",
      "1\n",
      "Cloud Gate Museum of Science and Industry\n",
      "15\n",
      "Millennium Park Museum of Science and Industry\n",
      "13\n",
      "Museum of Science and Industry Millennium Park\n",
      "14\n",
      "Museum of Science and Industry Cloud Gate\n",
      "15\n",
      "Millennium Park Cloud Gate\n",
      "2\n",
      "(41.907853573662535, -87.69177013187777) Millennium Park\n",
      "21\n",
      "(41.907853573662535, -87.69177013187777) Cloud Gate\n",
      "21\n",
      "(41.907853573662535, -87.69177013187777) Museum of Science and Industry\n",
      "26\n",
      "Museum of Science and Industry (41.907853573662535, -87.69177013187777)\n",
      "27\n",
      "(41.86437201028524, -87.62599213401428) Millennium Park\n",
      "8\n",
      "(41.86437201028524, -87.62599213401428) Cloud Gate\n",
      "8\n",
      "(41.86437201028524, -87.62599213401428) Museum of Science and Industry\n",
      "13\n",
      "Museum of Science and Industry (41.86437201028524, -87.62599213401428)\n",
      "14\n",
      "(41.943770082994355, -87.67172822911921) Millennium Park\n",
      "19\n",
      "(41.943770082994355, -87.67172822911921) Cloud Gate\n",
      "20\n",
      "(41.943770082994355, -87.67172822911921) Museum of Science and Industry\n",
      "28\n",
      "Museum of Science and Industry (41.943770082994355, -87.67172822911921)\n",
      "28\n",
      "(41.945394555772836, -87.64853583425847) Millennium Park\n",
      "12\n",
      "(41.945394555772836, -87.64853583425847) Cloud Gate\n",
      "14\n",
      "(41.945394555772836, -87.64853583425847) Museum of Science and Industry\n",
      "22\n",
      "Museum of Science and Industry (41.945394555772836, -87.64853583425847)\n",
      "25\n",
      "(41.88591434521404, -87.62068896818685) Millennium Park\n",
      "2\n",
      "(41.88591434521404, -87.62068896818685) Cloud Gate\n",
      "3\n",
      "(41.88591434521404, -87.62068896818685) Museum of Science and Industry\n",
      "13\n",
      "Museum of Science and Industry (41.88591434521404, -87.62068896818685)\n",
      "15\n",
      "(41.89438392593559, -87.66828643753438) Millennium Park\n",
      "16\n",
      "(41.89438392593559, -87.66828643753438) Cloud Gate\n",
      "16\n",
      "(41.89438392593559, -87.66828643753438) Museum of Science and Industry\n",
      "21\n",
      "Museum of Science and Industry (41.89438392593559, -87.66828643753438)\n",
      "21\n",
      "(41.82444190311945, -87.622649560332) Millennium Park\n",
      "12\n",
      "(41.82444190311945, -87.622649560332) Cloud Gate\n",
      "13\n",
      "(41.82444190311945, -87.622649560332) Museum of Science and Industry\n",
      "11\n",
      "Cloud Gate (41.82444190311945, -87.622649560332)\n",
      "15\n",
      "(41.898692514983075, -87.67500747590094) Millennium Park\n",
      "14\n",
      "(41.898692514983075, -87.67500747590094) Cloud Gate\n",
      "14\n",
      "(41.898692514983075, -87.67500747590094) Museum of Science and Industry\n",
      "19\n",
      "Museum of Science and Industry (41.898692514983075, -87.67500747590094)\n",
      "21\n",
      "(41.91587756274413, -87.70486667252662) Millennium Park\n",
      "22\n",
      "(41.91587756274413, -87.70486667252662) Cloud Gate\n",
      "22\n",
      "(41.91587756274413, -87.70486667252662) Museum of Science and Industry\n",
      "27\n",
      "Museum of Science and Industry (41.91587756274413, -87.70486667252662)\n",
      "28\n",
      "(41.8925033938853, -87.62384283066115) Millennium Park\n",
      "4\n",
      "(41.8925033938853, -87.62384283066115) Cloud Gate\n",
      "6\n",
      "(41.8925033938853, -87.62384283066115) Museum of Science and Industry\n",
      "16\n",
      "Museum of Science and Industry (41.8925033938853, -87.62384283066115)\n",
      "17\n",
      "(41.903753280607425, -87.62582898287503) Millennium Park\n",
      "9\n",
      "(41.903753280607425, -87.62582898287503) Cloud Gate\n",
      "10\n",
      "(41.903753280607425, -87.62582898287503) Museum of Science and Industry\n",
      "18\n",
      "Museum of Science and Industry (41.903753280607425, -87.62582898287503)\n",
      "18\n",
      "(41.884301469111755, -87.62672759703382) Millennium Park\n",
      "4\n",
      "(41.884301469111755, -87.62672759703382) Cloud Gate\n",
      "6\n",
      "(41.884301469111755, -87.62672759703382) Museum of Science and Industry\n",
      "18\n",
      "Museum of Science and Industry (41.884301469111755, -87.62672759703382)\n",
      "16\n",
      "(41.92413456182055, -87.69912644338527) Millennium Park\n",
      "18\n",
      "(41.92413456182055, -87.69912644338527) Cloud Gate\n",
      "18\n",
      "(41.92413456182055, -87.69912644338527) Museum of Science and Industry\n",
      "23\n",
      "Museum of Science and Industry (41.92413456182055, -87.69912644338527)\n",
      "25\n",
      "(41.889478213591666, -87.62665726652948) Millennium Park\n",
      "4\n",
      "(41.889478213591666, -87.62665726652948) Cloud Gate\n",
      "6\n",
      "(41.889478213591666, -87.62665726652948) Museum of Science and Industry\n",
      "16\n",
      "Museum of Science and Industry (41.889478213591666, -87.62665726652948)\n",
      "17\n",
      "(41.94124369797518, -87.65953520253606) Millennium Park\n",
      "15\n",
      "(41.94124369797518, -87.65953520253606) Cloud Gate\n",
      "17\n",
      "(41.94124369797518, -87.65953520253606) Museum of Science and Industry\n",
      "25\n",
      "Museum of Science and Industry (41.94124369797518, -87.65953520253606)\n",
      "26\n",
      "(41.886076, -87.626039) Millennium Park\n",
      "3\n",
      "(41.886076, -87.626039) Cloud Gate\n",
      "5\n",
      "(41.886076, -87.626039) Museum of Science and Industry\n",
      "16\n",
      "Museum of Science and Industry (41.886076, -87.626039)\n",
      "16\n",
      "(41.8932320366496, -87.6228453218937) Millennium Park\n",
      "6\n",
      "(41.8932320366496, -87.6228453218937) Cloud Gate\n",
      "6\n",
      "(41.8932320366496, -87.6228453218937) Museum of Science and Industry\n",
      "16\n",
      "Museum of Science and Industry (41.8932320366496, -87.6228453218937)\n",
      "17\n",
      "(41.845503, -87.627114) Millennium Park\n",
      "8\n",
      "(41.845503, -87.627114) Cloud Gate\n",
      "10\n",
      "(41.845503, -87.627114) Museum of Science and Industry\n",
      "9\n",
      "Museum of Science and Industry (41.845503, -87.627114)\n",
      "10\n",
      "(41.8879977072017, -87.6378308236599) Millennium Park\n",
      "10\n",
      "(41.8879977072017, -87.6378308236599) Cloud Gate\n",
      "11\n",
      "(41.8879977072017, -87.6378308236599) Museum of Science and Industry\n",
      "19\n",
      "Museum of Science and Industry (41.8879977072017, -87.6378308236599)\n",
      "20\n",
      "(41.890845, -87.630565) Millennium Park\n",
      "5\n",
      "(41.890845, -87.630565) Cloud Gate\n",
      "6\n",
      "(41.890845, -87.630565) Museum of Science and Industry\n",
      "16\n",
      "Museum of Science and Industry (41.890845, -87.630565)\n",
      "20\n",
      "(41.8752889715422, -87.6244103908539) Millennium Park\n",
      "4\n",
      "(41.8752889715422, -87.6244103908539) Cloud Gate\n",
      "5\n",
      "(41.8752889715422, -87.6244103908539) Museum of Science and Industry\n",
      "13\n",
      "Museum of Science and Industry (41.8752889715422, -87.6244103908539)\n",
      "15\n",
      "(41.8991317488166, -87.6217161118985) Millennium Park\n",
      "9\n",
      "(41.8991317488166, -87.6217161118985) Cloud Gate\n",
      "10\n",
      "(41.8991317488166, -87.6217161118985) Museum of Science and Industry\n",
      "18\n",
      "Museum of Science and Industry (41.8991317488166, -87.6217161118985)\n",
      "17\n",
      "(41.8874665630222, -87.6258239150047) Millennium Park\n",
      "3\n",
      "(41.8874665630222, -87.6258239150047) Cloud Gate\n",
      "5\n",
      "(41.8874665630222, -87.6258239150047) Museum of Science and Industry\n",
      "15\n",
      "Museum of Science and Industry (41.8874665630222, -87.6258239150047)\n",
      "16\n",
      "(41.88803583, -87.62503662) Millennium Park\n",
      "3\n",
      "(41.88803583, -87.62503662) Cloud Gate\n",
      "4\n",
      "(41.88803583, -87.62503662) Museum of Science and Industry\n",
      "13\n",
      "Museum of Science and Industry (41.88803583, -87.62503662)\n",
      "17\n",
      "(41.8947545, -87.6246486) Millennium Park\n",
      "7\n",
      "(41.8947545, -87.6246486) Cloud Gate\n",
      "10\n",
      "(41.8947545, -87.6246486) Museum of Science and Industry\n",
      "19\n",
      "Museum of Science and Industry (41.8947545, -87.6246486)\n",
      "18\n",
      "(41.880835, -87.631152) Millennium Park\n",
      "4\n",
      "(41.880835, -87.631152) Cloud Gate\n",
      "5\n",
      "(41.880835, -87.631152) Museum of Science and Industry\n",
      "17\n",
      "Museum of Science and Industry (41.880835, -87.631152)\n",
      "19\n",
      "(41.8691813292745, -87.6246491074562) Millennium Park\n",
      "6\n",
      "(41.8691813292745, -87.6246491074562) Cloud Gate\n",
      "6\n",
      "(41.8691813292745, -87.6246491074562) Museum of Science and Industry\n",
      "13\n",
      "Museum of Science and Industry (41.8691813292745, -87.6246491074562)\n",
      "13\n",
      "(41.8817514917735, -87.6263388991355) Millennium Park\n",
      "2\n",
      "(41.8817514917735, -87.6263388991355) Cloud Gate\n",
      "2\n",
      "(41.8817514917735, -87.6263388991355) Museum of Science and Industry\n",
      "15\n",
      "Museum of Science and Industry (41.8817514917735, -87.6263388991355)\n",
      "16\n",
      "(41.8993793051959, -87.6205131411552) Millennium Park\n",
      "8\n",
      "(41.8993793051959, -87.6205131411552) Cloud Gate\n",
      "9\n",
      "(41.8993793051959, -87.6205131411552) Museum of Science and Industry\n",
      "17\n",
      "Museum of Science and Industry (41.8993793051959, -87.6205131411552)\n",
      "18\n",
      "(41.8792732045037, -87.6311279833317) Millennium Park\n",
      "6\n",
      "(41.8792732045037, -87.6311279833317) Cloud Gate\n",
      "6\n",
      "(41.8792732045037, -87.6311279833317) Museum of Science and Industry\n",
      "17\n",
      "Museum of Science and Industry (41.8792732045037, -87.6311279833317)\n",
      "17\n"
     ]
    }
   ],
   "source": [
    "foof(data)"
   ]
  },
  {
   "cell_type": "code",
   "execution_count": null,
   "metadata": {
    "collapsed": true
   },
   "outputs": [],
   "source": []
  }
 ],
 "metadata": {
  "anaconda-cloud": {},
  "kernelspec": {
   "display_name": "Python [conda root]",
   "language": "python",
   "name": "conda-root-py"
  },
  "language_info": {
   "codemirror_mode": {
    "name": "ipython",
    "version": 3
   },
   "file_extension": ".py",
   "mimetype": "text/x-python",
   "name": "python",
   "nbconvert_exporter": "python",
   "pygments_lexer": "ipython3",
   "version": "3.5.2"
  }
 },
 "nbformat": 4,
 "nbformat_minor": 1
}
